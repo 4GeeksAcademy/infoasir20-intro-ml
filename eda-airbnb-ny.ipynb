{
 "cells": [
  {
   "cell_type": "markdown",
   "id": "a4d889e1",
   "metadata": {},
   "source": [
    "# EDA\n",
    "\n",
    "> fuente: Air bnd New York"
   ]
  },
  {
   "cell_type": "code",
   "execution_count": 65,
   "id": "7d67e797",
   "metadata": {},
   "outputs": [],
   "source": [
    "import numpy as np\n",
    "import pandas as pd\n",
    "from sklearn.preprocessing import MinMaxScaler\n",
    "import matplotlib.pyplot as plt \n",
    "import seaborn as sns\n",
    "from sklearn.model_selection import train_test_split\n",
    "from sklearn.preprocessing import LabelEncoder, OrdinalEncoder\n",
    "import joblib\n"
   ]
  },
  {
   "cell_type": "markdown",
   "id": "7818508d",
   "metadata": {},
   "source": [
    "### Empezamos leyendo con Pandas el archivo csv"
   ]
  },
  {
   "cell_type": "code",
   "execution_count": 36,
   "id": "7c2b0501",
   "metadata": {},
   "outputs": [
    {
     "data": {
      "text/html": [
       "<div>\n",
       "<style scoped>\n",
       "    .dataframe tbody tr th:only-of-type {\n",
       "        vertical-align: middle;\n",
       "    }\n",
       "\n",
       "    .dataframe tbody tr th {\n",
       "        vertical-align: top;\n",
       "    }\n",
       "\n",
       "    .dataframe thead th {\n",
       "        text-align: right;\n",
       "    }\n",
       "</style>\n",
       "<table border=\"1\" class=\"dataframe\">\n",
       "  <thead>\n",
       "    <tr style=\"text-align: right;\">\n",
       "      <th></th>\n",
       "      <th>id</th>\n",
       "      <th>name</th>\n",
       "      <th>host_id</th>\n",
       "      <th>host_name</th>\n",
       "      <th>neighbourhood_group</th>\n",
       "      <th>neighbourhood</th>\n",
       "      <th>latitude</th>\n",
       "      <th>longitude</th>\n",
       "      <th>room_type</th>\n",
       "      <th>price</th>\n",
       "      <th>minimum_nights</th>\n",
       "      <th>number_of_reviews</th>\n",
       "      <th>last_review</th>\n",
       "      <th>reviews_per_month</th>\n",
       "      <th>calculated_host_listings_count</th>\n",
       "      <th>availability_365</th>\n",
       "    </tr>\n",
       "  </thead>\n",
       "  <tbody>\n",
       "    <tr>\n",
       "      <th>0</th>\n",
       "      <td>2539</td>\n",
       "      <td>Clean &amp; quiet apt home by the park</td>\n",
       "      <td>2787</td>\n",
       "      <td>John</td>\n",
       "      <td>Brooklyn</td>\n",
       "      <td>Kensington</td>\n",
       "      <td>40.64749</td>\n",
       "      <td>-73.97237</td>\n",
       "      <td>Private room</td>\n",
       "      <td>149</td>\n",
       "      <td>1</td>\n",
       "      <td>9</td>\n",
       "      <td>2018-10-19</td>\n",
       "      <td>0.21</td>\n",
       "      <td>6</td>\n",
       "      <td>365</td>\n",
       "    </tr>\n",
       "    <tr>\n",
       "      <th>1</th>\n",
       "      <td>2595</td>\n",
       "      <td>Skylit Midtown Castle</td>\n",
       "      <td>2845</td>\n",
       "      <td>Jennifer</td>\n",
       "      <td>Manhattan</td>\n",
       "      <td>Midtown</td>\n",
       "      <td>40.75362</td>\n",
       "      <td>-73.98377</td>\n",
       "      <td>Entire home/apt</td>\n",
       "      <td>225</td>\n",
       "      <td>1</td>\n",
       "      <td>45</td>\n",
       "      <td>2019-05-21</td>\n",
       "      <td>0.38</td>\n",
       "      <td>2</td>\n",
       "      <td>355</td>\n",
       "    </tr>\n",
       "    <tr>\n",
       "      <th>2</th>\n",
       "      <td>3647</td>\n",
       "      <td>THE VILLAGE OF HARLEM....NEW YORK !</td>\n",
       "      <td>4632</td>\n",
       "      <td>Elisabeth</td>\n",
       "      <td>Manhattan</td>\n",
       "      <td>Harlem</td>\n",
       "      <td>40.80902</td>\n",
       "      <td>-73.94190</td>\n",
       "      <td>Private room</td>\n",
       "      <td>150</td>\n",
       "      <td>3</td>\n",
       "      <td>0</td>\n",
       "      <td>NaN</td>\n",
       "      <td>NaN</td>\n",
       "      <td>1</td>\n",
       "      <td>365</td>\n",
       "    </tr>\n",
       "    <tr>\n",
       "      <th>3</th>\n",
       "      <td>3831</td>\n",
       "      <td>Cozy Entire Floor of Brownstone</td>\n",
       "      <td>4869</td>\n",
       "      <td>LisaRoxanne</td>\n",
       "      <td>Brooklyn</td>\n",
       "      <td>Clinton Hill</td>\n",
       "      <td>40.68514</td>\n",
       "      <td>-73.95976</td>\n",
       "      <td>Entire home/apt</td>\n",
       "      <td>89</td>\n",
       "      <td>1</td>\n",
       "      <td>270</td>\n",
       "      <td>2019-07-05</td>\n",
       "      <td>4.64</td>\n",
       "      <td>1</td>\n",
       "      <td>194</td>\n",
       "    </tr>\n",
       "    <tr>\n",
       "      <th>4</th>\n",
       "      <td>5022</td>\n",
       "      <td>Entire Apt: Spacious Studio/Loft by central park</td>\n",
       "      <td>7192</td>\n",
       "      <td>Laura</td>\n",
       "      <td>Manhattan</td>\n",
       "      <td>East Harlem</td>\n",
       "      <td>40.79851</td>\n",
       "      <td>-73.94399</td>\n",
       "      <td>Entire home/apt</td>\n",
       "      <td>80</td>\n",
       "      <td>10</td>\n",
       "      <td>9</td>\n",
       "      <td>2018-11-19</td>\n",
       "      <td>0.10</td>\n",
       "      <td>1</td>\n",
       "      <td>0</td>\n",
       "    </tr>\n",
       "  </tbody>\n",
       "</table>\n",
       "</div>"
      ],
      "text/plain": [
       "     id                                              name  host_id  \\\n",
       "0  2539                Clean & quiet apt home by the park     2787   \n",
       "1  2595                             Skylit Midtown Castle     2845   \n",
       "2  3647               THE VILLAGE OF HARLEM....NEW YORK !     4632   \n",
       "3  3831                   Cozy Entire Floor of Brownstone     4869   \n",
       "4  5022  Entire Apt: Spacious Studio/Loft by central park     7192   \n",
       "\n",
       "     host_name neighbourhood_group neighbourhood  latitude  longitude  \\\n",
       "0         John            Brooklyn    Kensington  40.64749  -73.97237   \n",
       "1     Jennifer           Manhattan       Midtown  40.75362  -73.98377   \n",
       "2    Elisabeth           Manhattan        Harlem  40.80902  -73.94190   \n",
       "3  LisaRoxanne            Brooklyn  Clinton Hill  40.68514  -73.95976   \n",
       "4        Laura           Manhattan   East Harlem  40.79851  -73.94399   \n",
       "\n",
       "         room_type  price  minimum_nights  number_of_reviews last_review  \\\n",
       "0     Private room    149               1                  9  2018-10-19   \n",
       "1  Entire home/apt    225               1                 45  2019-05-21   \n",
       "2     Private room    150               3                  0         NaN   \n",
       "3  Entire home/apt     89               1                270  2019-07-05   \n",
       "4  Entire home/apt     80              10                  9  2018-11-19   \n",
       "\n",
       "   reviews_per_month  calculated_host_listings_count  availability_365  \n",
       "0               0.21                               6               365  \n",
       "1               0.38                               2               355  \n",
       "2                NaN                               1               365  \n",
       "3               4.64                               1               194  \n",
       "4               0.10                               1                 0  "
      ]
     },
     "execution_count": 36,
     "metadata": {},
     "output_type": "execute_result"
    }
   ],
   "source": [
    "df = pd.read_csv(\"https://raw.githubusercontent.com/4GeeksAcademy/data-preprocessing-project-tutorial/main/AB_NYC_2019.csv\")\n",
    "df.head()"
   ]
  },
  {
   "cell_type": "markdown",
   "id": "ad28b67a",
   "metadata": {},
   "source": [
    "1. train_date.describe().\n",
    "- Este método genera estadísticas descriptivas que resumen la tendencia central, dispersión y forma de la distribución de cada columna \n",
    "- Para columnas numéricas muestra:\n",
    "  count, mean (media), std (desviación estándar), min, percentiles (25%, 50% = mediana, 75%), y max \n",
    "- Para columnas de tipo “objeto” (strings, fechas…), usando include='all', muestra:\n",
    "count, unique, top (valor más frecuente) y freq (frecuencia) \n",
    "2. El sufijo .T\n",
    "T es un accesorio para .transpose(), que rota la tabla intercambiando filas por columnas"
   ]
  },
  {
   "cell_type": "code",
   "execution_count": 37,
   "id": "5603c9d6",
   "metadata": {},
   "outputs": [
    {
     "data": {
      "text/html": [
       "<div>\n",
       "<style scoped>\n",
       "    .dataframe tbody tr th:only-of-type {\n",
       "        vertical-align: middle;\n",
       "    }\n",
       "\n",
       "    .dataframe tbody tr th {\n",
       "        vertical-align: top;\n",
       "    }\n",
       "\n",
       "    .dataframe thead th {\n",
       "        text-align: right;\n",
       "    }\n",
       "</style>\n",
       "<table border=\"1\" class=\"dataframe\">\n",
       "  <thead>\n",
       "    <tr style=\"text-align: right;\">\n",
       "      <th></th>\n",
       "      <th>id</th>\n",
       "      <th>host_id</th>\n",
       "      <th>latitude</th>\n",
       "      <th>longitude</th>\n",
       "      <th>price</th>\n",
       "      <th>minimum_nights</th>\n",
       "      <th>number_of_reviews</th>\n",
       "      <th>reviews_per_month</th>\n",
       "      <th>calculated_host_listings_count</th>\n",
       "      <th>availability_365</th>\n",
       "    </tr>\n",
       "  </thead>\n",
       "  <tbody>\n",
       "    <tr>\n",
       "      <th>count</th>\n",
       "      <td>4.889500e+04</td>\n",
       "      <td>4.889500e+04</td>\n",
       "      <td>48895.000000</td>\n",
       "      <td>48895.000000</td>\n",
       "      <td>48895.000000</td>\n",
       "      <td>48895.000000</td>\n",
       "      <td>48895.000000</td>\n",
       "      <td>38843.000000</td>\n",
       "      <td>48895.000000</td>\n",
       "      <td>48895.000000</td>\n",
       "    </tr>\n",
       "    <tr>\n",
       "      <th>mean</th>\n",
       "      <td>1.901714e+07</td>\n",
       "      <td>6.762001e+07</td>\n",
       "      <td>40.728949</td>\n",
       "      <td>-73.952170</td>\n",
       "      <td>152.720687</td>\n",
       "      <td>7.029962</td>\n",
       "      <td>23.274466</td>\n",
       "      <td>1.373221</td>\n",
       "      <td>7.143982</td>\n",
       "      <td>112.781327</td>\n",
       "    </tr>\n",
       "    <tr>\n",
       "      <th>std</th>\n",
       "      <td>1.098311e+07</td>\n",
       "      <td>7.861097e+07</td>\n",
       "      <td>0.054530</td>\n",
       "      <td>0.046157</td>\n",
       "      <td>240.154170</td>\n",
       "      <td>20.510550</td>\n",
       "      <td>44.550582</td>\n",
       "      <td>1.680442</td>\n",
       "      <td>32.952519</td>\n",
       "      <td>131.622289</td>\n",
       "    </tr>\n",
       "    <tr>\n",
       "      <th>min</th>\n",
       "      <td>2.539000e+03</td>\n",
       "      <td>2.438000e+03</td>\n",
       "      <td>40.499790</td>\n",
       "      <td>-74.244420</td>\n",
       "      <td>0.000000</td>\n",
       "      <td>1.000000</td>\n",
       "      <td>0.000000</td>\n",
       "      <td>0.010000</td>\n",
       "      <td>1.000000</td>\n",
       "      <td>0.000000</td>\n",
       "    </tr>\n",
       "    <tr>\n",
       "      <th>25%</th>\n",
       "      <td>9.471945e+06</td>\n",
       "      <td>7.822033e+06</td>\n",
       "      <td>40.690100</td>\n",
       "      <td>-73.983070</td>\n",
       "      <td>69.000000</td>\n",
       "      <td>1.000000</td>\n",
       "      <td>1.000000</td>\n",
       "      <td>0.190000</td>\n",
       "      <td>1.000000</td>\n",
       "      <td>0.000000</td>\n",
       "    </tr>\n",
       "    <tr>\n",
       "      <th>50%</th>\n",
       "      <td>1.967728e+07</td>\n",
       "      <td>3.079382e+07</td>\n",
       "      <td>40.723070</td>\n",
       "      <td>-73.955680</td>\n",
       "      <td>106.000000</td>\n",
       "      <td>3.000000</td>\n",
       "      <td>5.000000</td>\n",
       "      <td>0.720000</td>\n",
       "      <td>1.000000</td>\n",
       "      <td>45.000000</td>\n",
       "    </tr>\n",
       "    <tr>\n",
       "      <th>75%</th>\n",
       "      <td>2.915218e+07</td>\n",
       "      <td>1.074344e+08</td>\n",
       "      <td>40.763115</td>\n",
       "      <td>-73.936275</td>\n",
       "      <td>175.000000</td>\n",
       "      <td>5.000000</td>\n",
       "      <td>24.000000</td>\n",
       "      <td>2.020000</td>\n",
       "      <td>2.000000</td>\n",
       "      <td>227.000000</td>\n",
       "    </tr>\n",
       "    <tr>\n",
       "      <th>max</th>\n",
       "      <td>3.648724e+07</td>\n",
       "      <td>2.743213e+08</td>\n",
       "      <td>40.913060</td>\n",
       "      <td>-73.712990</td>\n",
       "      <td>10000.000000</td>\n",
       "      <td>1250.000000</td>\n",
       "      <td>629.000000</td>\n",
       "      <td>58.500000</td>\n",
       "      <td>327.000000</td>\n",
       "      <td>365.000000</td>\n",
       "    </tr>\n",
       "  </tbody>\n",
       "</table>\n",
       "</div>"
      ],
      "text/plain": [
       "                 id       host_id      latitude     longitude         price  \\\n",
       "count  4.889500e+04  4.889500e+04  48895.000000  48895.000000  48895.000000   \n",
       "mean   1.901714e+07  6.762001e+07     40.728949    -73.952170    152.720687   \n",
       "std    1.098311e+07  7.861097e+07      0.054530      0.046157    240.154170   \n",
       "min    2.539000e+03  2.438000e+03     40.499790    -74.244420      0.000000   \n",
       "25%    9.471945e+06  7.822033e+06     40.690100    -73.983070     69.000000   \n",
       "50%    1.967728e+07  3.079382e+07     40.723070    -73.955680    106.000000   \n",
       "75%    2.915218e+07  1.074344e+08     40.763115    -73.936275    175.000000   \n",
       "max    3.648724e+07  2.743213e+08     40.913060    -73.712990  10000.000000   \n",
       "\n",
       "       minimum_nights  number_of_reviews  reviews_per_month  \\\n",
       "count    48895.000000       48895.000000       38843.000000   \n",
       "mean         7.029962          23.274466           1.373221   \n",
       "std         20.510550          44.550582           1.680442   \n",
       "min          1.000000           0.000000           0.010000   \n",
       "25%          1.000000           1.000000           0.190000   \n",
       "50%          3.000000           5.000000           0.720000   \n",
       "75%          5.000000          24.000000           2.020000   \n",
       "max       1250.000000         629.000000          58.500000   \n",
       "\n",
       "       calculated_host_listings_count  availability_365  \n",
       "count                    48895.000000      48895.000000  \n",
       "mean                         7.143982        112.781327  \n",
       "std                         32.952519        131.622289  \n",
       "min                          1.000000          0.000000  \n",
       "25%                          1.000000          0.000000  \n",
       "50%                          1.000000         45.000000  \n",
       "75%                          2.000000        227.000000  \n",
       "max                        327.000000        365.000000  "
      ]
     },
     "execution_count": 37,
     "metadata": {},
     "output_type": "execute_result"
    }
   ],
   "source": [
    "train_date = pd.read_csv(\"https://raw.githubusercontent.com/4GeeksAcademy/data-preprocessing-project-tutorial/main/AB_NYC_2019.csv\")\n",
    "train_date.describe()"
   ]
  },
  {
   "cell_type": "markdown",
   "id": "db46f8b6",
   "metadata": {},
   "source": [
    "- False significa que esa fila no es un duplicado.\n",
    "- True indicaría que esa fila sí es un duplicado de una fila previa."
   ]
  },
  {
   "cell_type": "code",
   "execution_count": 38,
   "id": "c7441b25",
   "metadata": {},
   "outputs": [
    {
     "data": {
      "text/plain": [
       "0        False\n",
       "1        False\n",
       "2        False\n",
       "3        False\n",
       "4        False\n",
       "         ...  \n",
       "48890    False\n",
       "48891    False\n",
       "48892    False\n",
       "48893    False\n",
       "48894    False\n",
       "Length: 48895, dtype: bool"
      ]
     },
     "execution_count": 38,
     "metadata": {},
     "output_type": "execute_result"
    }
   ],
   "source": [
    "df.duplicated()"
   ]
  },
  {
   "cell_type": "code",
   "execution_count": 39,
   "id": "68c7573b",
   "metadata": {},
   "outputs": [
    {
     "data": {
      "text/html": [
       "<div>\n",
       "<style scoped>\n",
       "    .dataframe tbody tr th:only-of-type {\n",
       "        vertical-align: middle;\n",
       "    }\n",
       "\n",
       "    .dataframe tbody tr th {\n",
       "        vertical-align: top;\n",
       "    }\n",
       "\n",
       "    .dataframe thead th {\n",
       "        text-align: right;\n",
       "    }\n",
       "</style>\n",
       "<table border=\"1\" class=\"dataframe\">\n",
       "  <thead>\n",
       "    <tr style=\"text-align: right;\">\n",
       "      <th></th>\n",
       "      <th>id</th>\n",
       "      <th>name</th>\n",
       "      <th>host_id</th>\n",
       "      <th>host_name</th>\n",
       "      <th>neighbourhood_group</th>\n",
       "      <th>neighbourhood</th>\n",
       "      <th>latitude</th>\n",
       "      <th>longitude</th>\n",
       "      <th>room_type</th>\n",
       "      <th>price</th>\n",
       "      <th>minimum_nights</th>\n",
       "      <th>number_of_reviews</th>\n",
       "      <th>last_review</th>\n",
       "      <th>reviews_per_month</th>\n",
       "      <th>calculated_host_listings_count</th>\n",
       "      <th>availability_365</th>\n",
       "    </tr>\n",
       "  </thead>\n",
       "  <tbody>\n",
       "  </tbody>\n",
       "</table>\n",
       "</div>"
      ],
      "text/plain": [
       "Empty DataFrame\n",
       "Columns: [id, name, host_id, host_name, neighbourhood_group, neighbourhood, latitude, longitude, room_type, price, minimum_nights, number_of_reviews, last_review, reviews_per_month, calculated_host_listings_count, availability_365]\n",
       "Index: []"
      ]
     },
     "execution_count": 39,
     "metadata": {},
     "output_type": "execute_result"
    }
   ],
   "source": [
    "df[df.duplicated()]"
   ]
  },
  {
   "cell_type": "markdown",
   "id": "d5b8b95d",
   "metadata": {},
   "source": [
    "Obtendremos las dimensiones: vemos que tenemos 48895 filas y 16 columnas"
   ]
  },
  {
   "cell_type": "code",
   "execution_count": 40,
   "id": "01e1d466",
   "metadata": {},
   "outputs": [
    {
     "data": {
      "text/plain": [
       "(48895, 16)"
      ]
     },
     "execution_count": 40,
     "metadata": {},
     "output_type": "execute_result"
    }
   ],
   "source": [
    "df.shape"
   ]
  },
  {
   "cell_type": "markdown",
   "id": "8ed40388",
   "metadata": {},
   "source": [
    "> Aqui vemos que la columna name tiene mas de un valor nulo, ya que nos devuelve True (16)\n",
    "> Esto tambien nos muestra las filas donde esa columna esta vacia, por lo que procedemos a eliminarla."
   ]
  },
  {
   "cell_type": "code",
   "execution_count": 41,
   "id": "640dc0d3",
   "metadata": {},
   "outputs": [
    {
     "data": {
      "text/html": [
       "<div>\n",
       "<style scoped>\n",
       "    .dataframe tbody tr th:only-of-type {\n",
       "        vertical-align: middle;\n",
       "    }\n",
       "\n",
       "    .dataframe tbody tr th {\n",
       "        vertical-align: top;\n",
       "    }\n",
       "\n",
       "    .dataframe thead th {\n",
       "        text-align: right;\n",
       "    }\n",
       "</style>\n",
       "<table border=\"1\" class=\"dataframe\">\n",
       "  <thead>\n",
       "    <tr style=\"text-align: right;\">\n",
       "      <th></th>\n",
       "      <th>id</th>\n",
       "      <th>name</th>\n",
       "      <th>host_id</th>\n",
       "      <th>host_name</th>\n",
       "      <th>neighbourhood_group</th>\n",
       "      <th>neighbourhood</th>\n",
       "      <th>latitude</th>\n",
       "      <th>longitude</th>\n",
       "      <th>room_type</th>\n",
       "      <th>price</th>\n",
       "      <th>minimum_nights</th>\n",
       "      <th>number_of_reviews</th>\n",
       "      <th>last_review</th>\n",
       "      <th>reviews_per_month</th>\n",
       "      <th>calculated_host_listings_count</th>\n",
       "      <th>availability_365</th>\n",
       "    </tr>\n",
       "  </thead>\n",
       "  <tbody>\n",
       "    <tr>\n",
       "      <th>2854</th>\n",
       "      <td>1615764</td>\n",
       "      <td>NaN</td>\n",
       "      <td>6676776</td>\n",
       "      <td>Peter</td>\n",
       "      <td>Manhattan</td>\n",
       "      <td>Battery Park City</td>\n",
       "      <td>40.71239</td>\n",
       "      <td>-74.01620</td>\n",
       "      <td>Entire home/apt</td>\n",
       "      <td>400</td>\n",
       "      <td>1000</td>\n",
       "      <td>0</td>\n",
       "      <td>NaN</td>\n",
       "      <td>NaN</td>\n",
       "      <td>1</td>\n",
       "      <td>362</td>\n",
       "    </tr>\n",
       "    <tr>\n",
       "      <th>3703</th>\n",
       "      <td>2232600</td>\n",
       "      <td>NaN</td>\n",
       "      <td>11395220</td>\n",
       "      <td>Anna</td>\n",
       "      <td>Manhattan</td>\n",
       "      <td>East Village</td>\n",
       "      <td>40.73215</td>\n",
       "      <td>-73.98821</td>\n",
       "      <td>Entire home/apt</td>\n",
       "      <td>200</td>\n",
       "      <td>1</td>\n",
       "      <td>28</td>\n",
       "      <td>2015-06-08</td>\n",
       "      <td>0.45</td>\n",
       "      <td>1</td>\n",
       "      <td>341</td>\n",
       "    </tr>\n",
       "    <tr>\n",
       "      <th>5775</th>\n",
       "      <td>4209595</td>\n",
       "      <td>NaN</td>\n",
       "      <td>20700823</td>\n",
       "      <td>Jesse</td>\n",
       "      <td>Manhattan</td>\n",
       "      <td>Greenwich Village</td>\n",
       "      <td>40.73473</td>\n",
       "      <td>-73.99244</td>\n",
       "      <td>Entire home/apt</td>\n",
       "      <td>225</td>\n",
       "      <td>1</td>\n",
       "      <td>1</td>\n",
       "      <td>2015-01-01</td>\n",
       "      <td>0.02</td>\n",
       "      <td>1</td>\n",
       "      <td>0</td>\n",
       "    </tr>\n",
       "    <tr>\n",
       "      <th>5975</th>\n",
       "      <td>4370230</td>\n",
       "      <td>NaN</td>\n",
       "      <td>22686810</td>\n",
       "      <td>Michaël</td>\n",
       "      <td>Manhattan</td>\n",
       "      <td>Nolita</td>\n",
       "      <td>40.72046</td>\n",
       "      <td>-73.99550</td>\n",
       "      <td>Entire home/apt</td>\n",
       "      <td>215</td>\n",
       "      <td>7</td>\n",
       "      <td>5</td>\n",
       "      <td>2016-01-02</td>\n",
       "      <td>0.09</td>\n",
       "      <td>1</td>\n",
       "      <td>0</td>\n",
       "    </tr>\n",
       "    <tr>\n",
       "      <th>6269</th>\n",
       "      <td>4581788</td>\n",
       "      <td>NaN</td>\n",
       "      <td>21600904</td>\n",
       "      <td>Lucie</td>\n",
       "      <td>Brooklyn</td>\n",
       "      <td>Williamsburg</td>\n",
       "      <td>40.71370</td>\n",
       "      <td>-73.94378</td>\n",
       "      <td>Private room</td>\n",
       "      <td>150</td>\n",
       "      <td>1</td>\n",
       "      <td>0</td>\n",
       "      <td>NaN</td>\n",
       "      <td>NaN</td>\n",
       "      <td>1</td>\n",
       "      <td>0</td>\n",
       "    </tr>\n",
       "    <tr>\n",
       "      <th>6567</th>\n",
       "      <td>4756856</td>\n",
       "      <td>NaN</td>\n",
       "      <td>1832442</td>\n",
       "      <td>Carolina</td>\n",
       "      <td>Brooklyn</td>\n",
       "      <td>Bushwick</td>\n",
       "      <td>40.70046</td>\n",
       "      <td>-73.92825</td>\n",
       "      <td>Private room</td>\n",
       "      <td>70</td>\n",
       "      <td>1</td>\n",
       "      <td>0</td>\n",
       "      <td>NaN</td>\n",
       "      <td>NaN</td>\n",
       "      <td>1</td>\n",
       "      <td>0</td>\n",
       "    </tr>\n",
       "    <tr>\n",
       "      <th>6605</th>\n",
       "      <td>4774658</td>\n",
       "      <td>NaN</td>\n",
       "      <td>24625694</td>\n",
       "      <td>Josh</td>\n",
       "      <td>Manhattan</td>\n",
       "      <td>Washington Heights</td>\n",
       "      <td>40.85198</td>\n",
       "      <td>-73.93108</td>\n",
       "      <td>Private room</td>\n",
       "      <td>40</td>\n",
       "      <td>1</td>\n",
       "      <td>0</td>\n",
       "      <td>NaN</td>\n",
       "      <td>NaN</td>\n",
       "      <td>1</td>\n",
       "      <td>0</td>\n",
       "    </tr>\n",
       "    <tr>\n",
       "      <th>8841</th>\n",
       "      <td>6782407</td>\n",
       "      <td>NaN</td>\n",
       "      <td>31147528</td>\n",
       "      <td>Huei-Yin</td>\n",
       "      <td>Brooklyn</td>\n",
       "      <td>Williamsburg</td>\n",
       "      <td>40.71354</td>\n",
       "      <td>-73.93882</td>\n",
       "      <td>Private room</td>\n",
       "      <td>45</td>\n",
       "      <td>1</td>\n",
       "      <td>0</td>\n",
       "      <td>NaN</td>\n",
       "      <td>NaN</td>\n",
       "      <td>1</td>\n",
       "      <td>0</td>\n",
       "    </tr>\n",
       "    <tr>\n",
       "      <th>11963</th>\n",
       "      <td>9325951</td>\n",
       "      <td>NaN</td>\n",
       "      <td>33377685</td>\n",
       "      <td>Jonathan</td>\n",
       "      <td>Manhattan</td>\n",
       "      <td>Hell's Kitchen</td>\n",
       "      <td>40.76436</td>\n",
       "      <td>-73.98573</td>\n",
       "      <td>Entire home/apt</td>\n",
       "      <td>190</td>\n",
       "      <td>4</td>\n",
       "      <td>1</td>\n",
       "      <td>2016-01-05</td>\n",
       "      <td>0.02</td>\n",
       "      <td>1</td>\n",
       "      <td>0</td>\n",
       "    </tr>\n",
       "    <tr>\n",
       "      <th>12824</th>\n",
       "      <td>9787590</td>\n",
       "      <td>NaN</td>\n",
       "      <td>50448556</td>\n",
       "      <td>Miguel</td>\n",
       "      <td>Manhattan</td>\n",
       "      <td>Harlem</td>\n",
       "      <td>40.80316</td>\n",
       "      <td>-73.95189</td>\n",
       "      <td>Entire home/apt</td>\n",
       "      <td>300</td>\n",
       "      <td>5</td>\n",
       "      <td>0</td>\n",
       "      <td>NaN</td>\n",
       "      <td>NaN</td>\n",
       "      <td>5</td>\n",
       "      <td>0</td>\n",
       "    </tr>\n",
       "    <tr>\n",
       "      <th>13059</th>\n",
       "      <td>9885866</td>\n",
       "      <td>NaN</td>\n",
       "      <td>37306329</td>\n",
       "      <td>Juliette</td>\n",
       "      <td>Manhattan</td>\n",
       "      <td>Chinatown</td>\n",
       "      <td>40.71632</td>\n",
       "      <td>-73.99328</td>\n",
       "      <td>Private room</td>\n",
       "      <td>67</td>\n",
       "      <td>4</td>\n",
       "      <td>0</td>\n",
       "      <td>NaN</td>\n",
       "      <td>NaN</td>\n",
       "      <td>1</td>\n",
       "      <td>0</td>\n",
       "    </tr>\n",
       "    <tr>\n",
       "      <th>13401</th>\n",
       "      <td>10052289</td>\n",
       "      <td>NaN</td>\n",
       "      <td>49522403</td>\n",
       "      <td>Vanessa</td>\n",
       "      <td>Brooklyn</td>\n",
       "      <td>Brownsville</td>\n",
       "      <td>40.66409</td>\n",
       "      <td>-73.92314</td>\n",
       "      <td>Private room</td>\n",
       "      <td>50</td>\n",
       "      <td>3</td>\n",
       "      <td>3</td>\n",
       "      <td>2016-08-18</td>\n",
       "      <td>0.07</td>\n",
       "      <td>1</td>\n",
       "      <td>362</td>\n",
       "    </tr>\n",
       "    <tr>\n",
       "      <th>15819</th>\n",
       "      <td>12797684</td>\n",
       "      <td>NaN</td>\n",
       "      <td>69715276</td>\n",
       "      <td>Yan</td>\n",
       "      <td>Manhattan</td>\n",
       "      <td>Upper West Side</td>\n",
       "      <td>40.79843</td>\n",
       "      <td>-73.96404</td>\n",
       "      <td>Private room</td>\n",
       "      <td>100</td>\n",
       "      <td>1</td>\n",
       "      <td>0</td>\n",
       "      <td>NaN</td>\n",
       "      <td>NaN</td>\n",
       "      <td>2</td>\n",
       "      <td>0</td>\n",
       "    </tr>\n",
       "    <tr>\n",
       "      <th>16071</th>\n",
       "      <td>12988898</td>\n",
       "      <td>NaN</td>\n",
       "      <td>71552588</td>\n",
       "      <td>Andrea</td>\n",
       "      <td>Bronx</td>\n",
       "      <td>Fordham</td>\n",
       "      <td>40.86032</td>\n",
       "      <td>-73.88493</td>\n",
       "      <td>Shared room</td>\n",
       "      <td>130</td>\n",
       "      <td>1</td>\n",
       "      <td>0</td>\n",
       "      <td>NaN</td>\n",
       "      <td>NaN</td>\n",
       "      <td>1</td>\n",
       "      <td>365</td>\n",
       "    </tr>\n",
       "    <tr>\n",
       "      <th>18047</th>\n",
       "      <td>14135050</td>\n",
       "      <td>NaN</td>\n",
       "      <td>85288337</td>\n",
       "      <td>Jeff</td>\n",
       "      <td>Brooklyn</td>\n",
       "      <td>Bedford-Stuyvesant</td>\n",
       "      <td>40.69421</td>\n",
       "      <td>-73.93234</td>\n",
       "      <td>Private room</td>\n",
       "      <td>70</td>\n",
       "      <td>3</td>\n",
       "      <td>0</td>\n",
       "      <td>NaN</td>\n",
       "      <td>NaN</td>\n",
       "      <td>1</td>\n",
       "      <td>0</td>\n",
       "    </tr>\n",
       "    <tr>\n",
       "      <th>28889</th>\n",
       "      <td>22275821</td>\n",
       "      <td>NaN</td>\n",
       "      <td>49662398</td>\n",
       "      <td>Kathleen</td>\n",
       "      <td>Brooklyn</td>\n",
       "      <td>Bushwick</td>\n",
       "      <td>40.69546</td>\n",
       "      <td>-73.92741</td>\n",
       "      <td>Entire home/apt</td>\n",
       "      <td>110</td>\n",
       "      <td>4</td>\n",
       "      <td>5</td>\n",
       "      <td>2018-08-13</td>\n",
       "      <td>0.27</td>\n",
       "      <td>1</td>\n",
       "      <td>0</td>\n",
       "    </tr>\n",
       "  </tbody>\n",
       "</table>\n",
       "</div>"
      ],
      "text/plain": [
       "             id name   host_id host_name neighbourhood_group  \\\n",
       "2854    1615764  NaN   6676776     Peter           Manhattan   \n",
       "3703    2232600  NaN  11395220      Anna           Manhattan   \n",
       "5775    4209595  NaN  20700823     Jesse           Manhattan   \n",
       "5975    4370230  NaN  22686810   Michaël           Manhattan   \n",
       "6269    4581788  NaN  21600904     Lucie            Brooklyn   \n",
       "6567    4756856  NaN   1832442  Carolina            Brooklyn   \n",
       "6605    4774658  NaN  24625694      Josh           Manhattan   \n",
       "8841    6782407  NaN  31147528  Huei-Yin            Brooklyn   \n",
       "11963   9325951  NaN  33377685  Jonathan           Manhattan   \n",
       "12824   9787590  NaN  50448556    Miguel           Manhattan   \n",
       "13059   9885866  NaN  37306329  Juliette           Manhattan   \n",
       "13401  10052289  NaN  49522403   Vanessa            Brooklyn   \n",
       "15819  12797684  NaN  69715276       Yan           Manhattan   \n",
       "16071  12988898  NaN  71552588    Andrea               Bronx   \n",
       "18047  14135050  NaN  85288337      Jeff            Brooklyn   \n",
       "28889  22275821  NaN  49662398  Kathleen            Brooklyn   \n",
       "\n",
       "            neighbourhood  latitude  longitude        room_type  price  \\\n",
       "2854    Battery Park City  40.71239  -74.01620  Entire home/apt    400   \n",
       "3703         East Village  40.73215  -73.98821  Entire home/apt    200   \n",
       "5775    Greenwich Village  40.73473  -73.99244  Entire home/apt    225   \n",
       "5975               Nolita  40.72046  -73.99550  Entire home/apt    215   \n",
       "6269         Williamsburg  40.71370  -73.94378     Private room    150   \n",
       "6567             Bushwick  40.70046  -73.92825     Private room     70   \n",
       "6605   Washington Heights  40.85198  -73.93108     Private room     40   \n",
       "8841         Williamsburg  40.71354  -73.93882     Private room     45   \n",
       "11963      Hell's Kitchen  40.76436  -73.98573  Entire home/apt    190   \n",
       "12824              Harlem  40.80316  -73.95189  Entire home/apt    300   \n",
       "13059           Chinatown  40.71632  -73.99328     Private room     67   \n",
       "13401         Brownsville  40.66409  -73.92314     Private room     50   \n",
       "15819     Upper West Side  40.79843  -73.96404     Private room    100   \n",
       "16071             Fordham  40.86032  -73.88493      Shared room    130   \n",
       "18047  Bedford-Stuyvesant  40.69421  -73.93234     Private room     70   \n",
       "28889            Bushwick  40.69546  -73.92741  Entire home/apt    110   \n",
       "\n",
       "       minimum_nights  number_of_reviews last_review  reviews_per_month  \\\n",
       "2854             1000                  0         NaN                NaN   \n",
       "3703                1                 28  2015-06-08               0.45   \n",
       "5775                1                  1  2015-01-01               0.02   \n",
       "5975                7                  5  2016-01-02               0.09   \n",
       "6269                1                  0         NaN                NaN   \n",
       "6567                1                  0         NaN                NaN   \n",
       "6605                1                  0         NaN                NaN   \n",
       "8841                1                  0         NaN                NaN   \n",
       "11963               4                  1  2016-01-05               0.02   \n",
       "12824               5                  0         NaN                NaN   \n",
       "13059               4                  0         NaN                NaN   \n",
       "13401               3                  3  2016-08-18               0.07   \n",
       "15819               1                  0         NaN                NaN   \n",
       "16071               1                  0         NaN                NaN   \n",
       "18047               3                  0         NaN                NaN   \n",
       "28889               4                  5  2018-08-13               0.27   \n",
       "\n",
       "       calculated_host_listings_count  availability_365  \n",
       "2854                                1               362  \n",
       "3703                                1               341  \n",
       "5775                                1                 0  \n",
       "5975                                1                 0  \n",
       "6269                                1                 0  \n",
       "6567                                1                 0  \n",
       "6605                                1                 0  \n",
       "8841                                1                 0  \n",
       "11963                               1                 0  \n",
       "12824                               5                 0  \n",
       "13059                               1                 0  \n",
       "13401                               1               362  \n",
       "15819                               2                 0  \n",
       "16071                               1               365  \n",
       "18047                               1                 0  \n",
       "28889                               1                 0  "
      ]
     },
     "execution_count": 41,
     "metadata": {},
     "output_type": "execute_result"
    }
   ],
   "source": [
    "df['name'].isnull().sum()\n",
    "df[df['name'].isnull()]"
   ]
  },
  {
   "cell_type": "markdown",
   "id": "c5d02f92",
   "metadata": {},
   "source": [
    "> Aqui tambien vemos todas las columnas con mas de un valor nulo"
   ]
  },
  {
   "cell_type": "code",
   "execution_count": 42,
   "id": "9b7a53a2",
   "metadata": {},
   "outputs": [
    {
     "data": {
      "text/plain": [
       "name                    16\n",
       "host_name               21\n",
       "last_review          10052\n",
       "reviews_per_month    10052\n",
       "dtype: int64"
      ]
     },
     "execution_count": 42,
     "metadata": {},
     "output_type": "execute_result"
    }
   ],
   "source": [
    "df.isnull().sum()[df.isnull().sum() > 0]"
   ]
  },
  {
   "cell_type": "markdown",
   "id": "e04c29b7",
   "metadata": {},
   "source": [
    "> Voy a empezar a rellenar los valores nulos, ya que no estoy segura de eliminarlos (de momento)"
   ]
  },
  {
   "cell_type": "code",
   "execution_count": 43,
   "id": "11bba632",
   "metadata": {},
   "outputs": [
    {
     "data": {
      "text/plain": [
       "id                                    0\n",
       "name                                 16\n",
       "host_id                               0\n",
       "host_name                            21\n",
       "neighbourhood_group                   0\n",
       "neighbourhood                         0\n",
       "latitude                              0\n",
       "longitude                             0\n",
       "room_type                             0\n",
       "price                                 0\n",
       "minimum_nights                        0\n",
       "number_of_reviews                     0\n",
       "last_review                       10052\n",
       "reviews_per_month                 10052\n",
       "calculated_host_listings_count        0\n",
       "availability_365                      0\n",
       "dtype: int64"
      ]
     },
     "execution_count": 43,
     "metadata": {},
     "output_type": "execute_result"
    }
   ],
   "source": [
    "df.isnull().sum()"
   ]
  },
  {
   "cell_type": "markdown",
   "id": "be68247f",
   "metadata": {},
   "source": [
    "### Conclusion\n",
    ">\n",
    "> Como se ve, hemos cambiado las columnas que tenian mas valores nulos "
   ]
  },
  {
   "cell_type": "markdown",
   "id": "7c491fe2",
   "metadata": {},
   "source": [
    "> Voy a eliminar la columna name y host_name ya que para mi no me ayuda a predecir\n",
    "precios de las habitaciones, ni hacer una clasificacion de tipo de habitacion "
   ]
  },
  {
   "cell_type": "code",
   "execution_count": 44,
   "id": "ea7930ca",
   "metadata": {},
   "outputs": [],
   "source": [
    "# Eliminando name\n",
    "df = df.drop(columns=['name'])"
   ]
  },
  {
   "cell_type": "code",
   "execution_count": 45,
   "id": "d1e3bc01",
   "metadata": {},
   "outputs": [],
   "source": [
    "# Eliminando host_name\n",
    "df = df.drop(columns = ['host_name'])"
   ]
  },
  {
   "cell_type": "code",
   "execution_count": 46,
   "id": "4a043e3b",
   "metadata": {},
   "outputs": [],
   "source": [
    "df = df.drop(columns = ['id'])\n",
    "df = df.drop(columns = ['host_id'])"
   ]
  },
  {
   "cell_type": "code",
   "execution_count": 47,
   "id": "f611c5f5",
   "metadata": {},
   "outputs": [
    {
     "data": {
      "text/html": [
       "<div>\n",
       "<style scoped>\n",
       "    .dataframe tbody tr th:only-of-type {\n",
       "        vertical-align: middle;\n",
       "    }\n",
       "\n",
       "    .dataframe tbody tr th {\n",
       "        vertical-align: top;\n",
       "    }\n",
       "\n",
       "    .dataframe thead th {\n",
       "        text-align: right;\n",
       "    }\n",
       "</style>\n",
       "<table border=\"1\" class=\"dataframe\">\n",
       "  <thead>\n",
       "    <tr style=\"text-align: right;\">\n",
       "      <th></th>\n",
       "      <th>latitude</th>\n",
       "      <th>longitude</th>\n",
       "      <th>price</th>\n",
       "      <th>minimum_nights</th>\n",
       "      <th>number_of_reviews</th>\n",
       "      <th>reviews_per_month</th>\n",
       "      <th>calculated_host_listings_count</th>\n",
       "      <th>availability_365</th>\n",
       "    </tr>\n",
       "  </thead>\n",
       "  <tbody>\n",
       "    <tr>\n",
       "      <th>count</th>\n",
       "      <td>48895.000000</td>\n",
       "      <td>48895.000000</td>\n",
       "      <td>48895.000000</td>\n",
       "      <td>48895.000000</td>\n",
       "      <td>48895.000000</td>\n",
       "      <td>38843.000000</td>\n",
       "      <td>48895.000000</td>\n",
       "      <td>48895.000000</td>\n",
       "    </tr>\n",
       "    <tr>\n",
       "      <th>mean</th>\n",
       "      <td>40.728949</td>\n",
       "      <td>-73.952170</td>\n",
       "      <td>152.720687</td>\n",
       "      <td>7.029962</td>\n",
       "      <td>23.274466</td>\n",
       "      <td>1.373221</td>\n",
       "      <td>7.143982</td>\n",
       "      <td>112.781327</td>\n",
       "    </tr>\n",
       "    <tr>\n",
       "      <th>std</th>\n",
       "      <td>0.054530</td>\n",
       "      <td>0.046157</td>\n",
       "      <td>240.154170</td>\n",
       "      <td>20.510550</td>\n",
       "      <td>44.550582</td>\n",
       "      <td>1.680442</td>\n",
       "      <td>32.952519</td>\n",
       "      <td>131.622289</td>\n",
       "    </tr>\n",
       "    <tr>\n",
       "      <th>min</th>\n",
       "      <td>40.499790</td>\n",
       "      <td>-74.244420</td>\n",
       "      <td>0.000000</td>\n",
       "      <td>1.000000</td>\n",
       "      <td>0.000000</td>\n",
       "      <td>0.010000</td>\n",
       "      <td>1.000000</td>\n",
       "      <td>0.000000</td>\n",
       "    </tr>\n",
       "    <tr>\n",
       "      <th>25%</th>\n",
       "      <td>40.690100</td>\n",
       "      <td>-73.983070</td>\n",
       "      <td>69.000000</td>\n",
       "      <td>1.000000</td>\n",
       "      <td>1.000000</td>\n",
       "      <td>0.190000</td>\n",
       "      <td>1.000000</td>\n",
       "      <td>0.000000</td>\n",
       "    </tr>\n",
       "    <tr>\n",
       "      <th>50%</th>\n",
       "      <td>40.723070</td>\n",
       "      <td>-73.955680</td>\n",
       "      <td>106.000000</td>\n",
       "      <td>3.000000</td>\n",
       "      <td>5.000000</td>\n",
       "      <td>0.720000</td>\n",
       "      <td>1.000000</td>\n",
       "      <td>45.000000</td>\n",
       "    </tr>\n",
       "    <tr>\n",
       "      <th>75%</th>\n",
       "      <td>40.763115</td>\n",
       "      <td>-73.936275</td>\n",
       "      <td>175.000000</td>\n",
       "      <td>5.000000</td>\n",
       "      <td>24.000000</td>\n",
       "      <td>2.020000</td>\n",
       "      <td>2.000000</td>\n",
       "      <td>227.000000</td>\n",
       "    </tr>\n",
       "    <tr>\n",
       "      <th>max</th>\n",
       "      <td>40.913060</td>\n",
       "      <td>-73.712990</td>\n",
       "      <td>10000.000000</td>\n",
       "      <td>1250.000000</td>\n",
       "      <td>629.000000</td>\n",
       "      <td>58.500000</td>\n",
       "      <td>327.000000</td>\n",
       "      <td>365.000000</td>\n",
       "    </tr>\n",
       "  </tbody>\n",
       "</table>\n",
       "</div>"
      ],
      "text/plain": [
       "           latitude     longitude         price  minimum_nights  \\\n",
       "count  48895.000000  48895.000000  48895.000000    48895.000000   \n",
       "mean      40.728949    -73.952170    152.720687        7.029962   \n",
       "std        0.054530      0.046157    240.154170       20.510550   \n",
       "min       40.499790    -74.244420      0.000000        1.000000   \n",
       "25%       40.690100    -73.983070     69.000000        1.000000   \n",
       "50%       40.723070    -73.955680    106.000000        3.000000   \n",
       "75%       40.763115    -73.936275    175.000000        5.000000   \n",
       "max       40.913060    -73.712990  10000.000000     1250.000000   \n",
       "\n",
       "       number_of_reviews  reviews_per_month  calculated_host_listings_count  \\\n",
       "count       48895.000000       38843.000000                    48895.000000   \n",
       "mean           23.274466           1.373221                        7.143982   \n",
       "std            44.550582           1.680442                       32.952519   \n",
       "min             0.000000           0.010000                        1.000000   \n",
       "25%             1.000000           0.190000                        1.000000   \n",
       "50%             5.000000           0.720000                        1.000000   \n",
       "75%            24.000000           2.020000                        2.000000   \n",
       "max           629.000000          58.500000                      327.000000   \n",
       "\n",
       "       availability_365  \n",
       "count      48895.000000  \n",
       "mean         112.781327  \n",
       "std          131.622289  \n",
       "min            0.000000  \n",
       "25%            0.000000  \n",
       "50%           45.000000  \n",
       "75%          227.000000  \n",
       "max          365.000000  "
      ]
     },
     "execution_count": 47,
     "metadata": {},
     "output_type": "execute_result"
    }
   ],
   "source": [
    "df.describe()"
   ]
  },
  {
   "cell_type": "code",
   "execution_count": 48,
   "id": "458e5e78",
   "metadata": {},
   "outputs": [
    {
     "data": {
      "text/plain": [
       "(48895, 12)"
      ]
     },
     "execution_count": 48,
     "metadata": {},
     "output_type": "execute_result"
    }
   ],
   "source": [
    "df.shape"
   ]
  },
  {
   "cell_type": "code",
   "execution_count": 49,
   "id": "9de762c5",
   "metadata": {},
   "outputs": [
    {
     "name": "stdout",
     "output_type": "stream",
     "text": [
      "Columnas categóricas a codificar:\n",
      "Index(['neighbourhood_group', 'neighbourhood', 'room_type', 'last_review'], dtype='object')\n"
     ]
    }
   ],
   "source": [
    "cat_cols = df.select_dtypes(include='object').columns\n",
    "print(\"Columnas categóricas a codificar:\")\n",
    "print(cat_cols)"
   ]
  },
  {
   "cell_type": "code",
   "execution_count": 50,
   "id": "e84a6051",
   "metadata": {},
   "outputs": [
    {
     "data": {
      "text/plain": [
       "Index(['latitude', 'longitude', 'price', 'minimum_nights', 'number_of_reviews',\n",
       "       'reviews_per_month', 'calculated_host_listings_count',\n",
       "       'availability_365'],\n",
       "      dtype='object')"
      ]
     },
     "execution_count": 50,
     "metadata": {},
     "output_type": "execute_result"
    }
   ],
   "source": [
    "num_cols = df.select_dtypes(include=['int64', 'float64']).columns\n",
    "num_cols"
   ]
  },
  {
   "cell_type": "markdown",
   "id": "423617ce",
   "metadata": {},
   "source": [
    " > Estas son las columnas object que se deben convertir a números:\n",
    " > 'neighbourhood_group', 'neighbourhood', 'room_type', 'last_review'\n",
    " >\n",
    " > Los algoritmos de ML requieren datos numericos, ya que no pueden trabajar directamente con texto\n",
    " > por ese motivo es que transformamos los datos categóricos en formatos numéricos."
   ]
  },
  {
   "cell_type": "code",
   "execution_count": 51,
   "id": "b1eaef44",
   "metadata": {},
   "outputs": [
    {
     "name": "stdout",
     "output_type": "stream",
     "text": [
      "DataFrame convertido completamente a números\n",
      "   latitude  longitude  price  minimum_nights  number_of_reviews last_review  \\\n",
      "0  40.64749  -73.97237    149               1                  9  2018-10-19   \n",
      "1  40.75362  -73.98377    225               1                 45  2019-05-21   \n",
      "2  40.80902  -73.94190    150               3                  0         NaT   \n",
      "3  40.68514  -73.95976     89               1                270  2019-07-05   \n",
      "4  40.79851  -73.94399     80              10                  9  2018-11-19   \n",
      "\n",
      "   reviews_per_month  calculated_host_listings_count  availability_365  \\\n",
      "0               0.21                               6               365   \n",
      "1               0.38                               2               355   \n",
      "2                NaN                               1               365   \n",
      "3               4.64                               1               194   \n",
      "4               0.10                               1                 0   \n",
      "\n",
      "   neighbourhood_group_Brooklyn  ...  neighbourhood_Williamsbridge  \\\n",
      "0                          True  ...                         False   \n",
      "1                         False  ...                         False   \n",
      "2                         False  ...                         False   \n",
      "3                          True  ...                         False   \n",
      "4                         False  ...                         False   \n",
      "\n",
      "   neighbourhood_Williamsburg  neighbourhood_Willowbrook  \\\n",
      "0                       False                      False   \n",
      "1                       False                      False   \n",
      "2                       False                      False   \n",
      "3                       False                      False   \n",
      "4                       False                      False   \n",
      "\n",
      "   neighbourhood_Windsor Terrace  neighbourhood_Woodhaven  \\\n",
      "0                          False                    False   \n",
      "1                          False                    False   \n",
      "2                          False                    False   \n",
      "3                          False                    False   \n",
      "4                          False                    False   \n",
      "\n",
      "   neighbourhood_Woodlawn  neighbourhood_Woodrow  neighbourhood_Woodside  \\\n",
      "0                   False                  False                   False   \n",
      "1                   False                  False                   False   \n",
      "2                   False                  False                   False   \n",
      "3                   False                  False                   False   \n",
      "4                   False                  False                   False   \n",
      "\n",
      "   room_type_Private room  room_type_Shared room  \n",
      "0                    True                  False  \n",
      "1                   False                  False  \n",
      "2                    True                  False  \n",
      "3                   False                  False  \n",
      "4                   False                  False  \n",
      "\n",
      "[5 rows x 235 columns]\n"
     ]
    }
   ],
   "source": [
    "# Convertir 'last_review' a tipo fecha (si deseas usar partes de la fecha)\n",
    "df['last_review'] = pd.to_datetime(df['last_review'], errors='coerce')\n",
    "# Aplicamos One-Hot Encoding a las otras columnas categóricas\n",
    "df_encoded = pd.get_dummies(df, columns=['neighbourhood_group', 'neighbourhood', 'room_type'], drop_first=True)\n",
    "# Resultado final\n",
    "print(\"DataFrame convertido completamente a números\")\n",
    "print(df_encoded.head())\n"
   ]
  },
  {
   "cell_type": "markdown",
   "id": "b5a23181",
   "metadata": {},
   "source": [
    "### Análisis multivariante, tanto para variables numéricas como categóricas:"
   ]
  },
  {
   "cell_type": "code",
   "execution_count": 52,
   "id": "19bb6803",
   "metadata": {},
   "outputs": [
    {
     "data": {
      "image/png": "[encoded data removed]",
      "text/plain": [
       "<Figure size 700x500 with 1 Axes>"
      ]
     },
     "metadata": {},
     "output_type": "display_data"
    },
    {
     "data": {
      "image/png": "[encoded data removed]",
      "text/plain": [
       "<Figure size 1000x800 with 2 Axes>"
      ]
     },
     "metadata": {},
     "output_type": "display_data"
    },
    {
     "data": {
      "image/png": "[encoded data removed]",
      "text/plain": [
       "<Figure size 1000x500 with 1 Axes>"
      ]
     },
     "metadata": {},
     "output_type": "display_data"
    }
   ],
   "source": [
    "# --- Análisis multivariante ---\n",
    "\n",
    "# 1. Numéricas vs Numéricas: regplot y heatmap de correlación\n",
    "# Ejemplo: relación entre 'price' y 'minimum_nights'\n",
    "plt.figure(figsize=(7,5))\n",
    "sns.regplot(x='minimum_nights', y='price', data=df, scatter_kws={'alpha':0.3})\n",
    "plt.title('Relación entre minimum_nights y price')\n",
    "plt.show()\n",
    "\n",
    "# Matriz de correlación y heatmap\n",
    "plt.figure(figsize=(10,8))\n",
    "corr = df.select_dtypes(include=['float64', 'int64']).corr()\n",
    "sns.heatmap(corr, annot=True, cmap='coolwarm', fmt=\".2f\")\n",
    "plt.title('Matriz de correlación entre variables numéricas')\n",
    "plt.show()\n",
    "\n",
    "# 2. Categórica vs Categórica: countplot\n",
    "# Ejemplo: distribución de room_type por neighbourhood_group\n",
    "plt.figure(figsize=(10,5))\n",
    "sns.countplot(x='neighbourhood_group', hue='room_type', data=df)\n",
    "plt.title('Distribución de tipos de habitación por barrio')\n",
    "plt.xlabel('Barrio')\n",
    "plt.ylabel('Cantidad')\n",
    "plt.legend(title='Tipo de habitación')\n",
    "plt.show()"
   ]
  },
  {
   "cell_type": "markdown",
   "id": "2e68e4b4",
   "metadata": {},
   "source": [
    "### Ingenieria de caracteristicas\n",
    ">\n",
    "> Detectamos y eliminamos outliers en la columna 'price' usando el metodo IQR.\n",
    ">\n",
    "> Definimos los límites inferior y superior\n",
    ">\n",
    "> Filtramos el DataFrame para quedarnos solo con los valores dentro de los limites"
   ]
  },
  {
   "cell_type": "code",
   "execution_count": 53,
   "id": "98a4e9ac",
   "metadata": {},
   "outputs": [
    {
     "name": "stdout",
     "output_type": "stream",
     "text": [
      "Filas originales: 48895\n",
      "Filas sin outliers: 45923\n"
     ]
    }
   ],
   "source": [
    "\n",
    "Q1 = df['price'].quantile(0.25)\n",
    "Q3 = df['price'].quantile(0.75)\n",
    "IQR = Q3 - Q1\n",
    "\n",
    "limite_inferior = Q1 - 1.5 * IQR\n",
    "limite_superior = Q3 + 1.5 * IQR\n",
    "\n",
    "df_sin_outliers = df[(df['price'] >= limite_inferior) & (df['price'] <= limite_superior)]\n",
    "\n",
    "print(f\"Filas originales: {df.shape[0]}\")\n",
    "print(f\"Filas sin outliers: {df_sin_outliers.shape[0]}\")"
   ]
  },
  {
   "cell_type": "code",
   "execution_count": 54,
   "id": "9b6e4993",
   "metadata": {},
   "outputs": [
    {
     "name": "stdout",
     "output_type": "stream",
     "text": [
      "Valores nulos por columna:\n",
      "neighbourhood_group                   0\n",
      "neighbourhood                         0\n",
      "latitude                              0\n",
      "longitude                             0\n",
      "room_type                             0\n",
      "price                                 0\n",
      "minimum_nights                        0\n",
      "number_of_reviews                     0\n",
      "last_review                       10052\n",
      "reviews_per_month                 10052\n",
      "calculated_host_listings_count        0\n",
      "availability_365                      0\n",
      "dtype: int64\n"
     ]
    },
    {
     "data": {
      "image/png": "[encoded data removed]",
      "text/plain": [
       "<Figure size 1000x500 with 1 Axes>"
      ]
     },
     "metadata": {},
     "output_type": "display_data"
    },
    {
     "name": "stdout",
     "output_type": "stream",
     "text": [
      "Valores nulos después del tratamiento:\n",
      "neighbourhood_group               0\n",
      "neighbourhood                     0\n",
      "latitude                          0\n",
      "longitude                         0\n",
      "room_type                         0\n",
      "price                             0\n",
      "minimum_nights                    0\n",
      "number_of_reviews                 0\n",
      "last_review                       0\n",
      "reviews_per_month                 0\n",
      "calculated_host_listings_count    0\n",
      "availability_365                  0\n",
      "dtype: int64\n"
     ]
    }
   ],
   "source": [
    "\n",
    "# Análisis de valores faltantes\n",
    "\n",
    "# 1. Ver cuántos valores nulos hay por columna\n",
    "print(\"Valores nulos por columna:\")\n",
    "print(df.isnull().sum())\n",
    "\n",
    "# 2. Visualización rápida de los nulos\n",
    "\n",
    "plt.figure(figsize=(10,5))\n",
    "sns.heatmap(df.isnull(), cbar=False, cmap=\"viridis\")\n",
    "plt.title(\"Mapa de calor de valores nulos\")\n",
    "plt.show()\n",
    "\n",
    "# 3. Decisiones: ejemplo de rellenar y eliminar\n",
    "# Rellenar valores nulos en 'reviews_per_month' con 0\n",
    "df['reviews_per_month'] = df['reviews_per_month'].fillna(0)\n",
    "\n",
    "# Eliminar filas donde 'last_review' es nulo (si es importante para el análisis)\n",
    "df = df.dropna(subset=['last_review'])\n",
    "\n",
    "# Si hay columnas con muchos nulos y no aportan, se pueden eliminar:\n",
    "# df = df.drop(columns=['columna_con_muchos_nulos'])\n",
    "\n",
    "# Comprobamos nuevamente los nulos\n",
    "print(\"Valores nulos después del tratamiento:\")\n",
    "print(df.isnull().sum())"
   ]
  },
  {
   "cell_type": "markdown",
   "id": "21e83a93",
   "metadata": {},
   "source": [
    "### Inferencia de nuevas caraterisitcas"
   ]
  },
  {
   "cell_type": "markdown",
   "id": "6b244f37",
   "metadata": {},
   "source": [
    "**a) Extraer el año y mes**"
   ]
  },
  {
   "cell_type": "code",
   "execution_count": 55,
   "id": "ff64d7db",
   "metadata": {},
   "outputs": [],
   "source": [
    "# Extraer año y mes de la columna 'last_review'\n",
    "df['last_review_year'] = df['last_review'].dt.year\n",
    "df['last_review_month'] = df['last_review'].dt.month"
   ]
  },
  {
   "cell_type": "markdown",
   "id": "37090d86",
   "metadata": {},
   "source": [
    "#### Conclusion del apartado A\n",
    ">\n",
    "> Esto sirve para crear dos nuevas columnas que indican el año y el mes de la ultima reseña de cada anuncio.\n",
    ">\n",
    "> Esto nos ayudará a analizar tendencias temporales. Por ejemplo, ver si los anuncios con reseñas mas recientes tienen precios diferentes."
   ]
  },
  {
   "cell_type": "markdown",
   "id": "3be5b670",
   "metadata": {},
   "source": [
    "\n",
    "\n",
    "**b) Crear una variable binaria: precio alto**\n"
   ]
  },
  {
   "cell_type": "code",
   "execution_count": 56,
   "id": "21f95433",
   "metadata": {},
   "outputs": [],
   "source": [
    "# Crear una columna que indique si el precio es mayor que la mediana\n",
    "mediana = df['price'].median()\n",
    "df['precio_alto'] = (df['price'] > mediana).astype(int)"
   ]
  },
  {
   "cell_type": "markdown",
   "id": "ba8a8e87",
   "metadata": {},
   "source": [
    "#### Conclusión del apartado B\n",
    "> \n",
    "> Crear una columna que vale 1 si el precio del anuncio es mayor que la mediana y 0 si no lo es. \n",
    "> \n",
    "> Esto es útil para clasificar los anuncios en “caros” y “no caros” y hacer análisis o modelos de clasificación."
   ]
  },
  {
   "cell_type": "markdown",
   "id": "324e517e",
   "metadata": {},
   "source": [
    "\n",
    "\n",
    "**c) Calcular la antigüedad del anuncio (en días)**\n"
   ]
  },
  {
   "cell_type": "code",
   "execution_count": 57,
   "id": "639e9ad7",
   "metadata": {},
   "outputs": [],
   "source": [
    "# Calcular la antigüedad del anuncio desde la última reseña\n",
    "from datetime import datetime\n",
    "df['antiguedad_dias'] = (datetime.now() - df['last_review']).dt.days"
   ]
  },
  {
   "cell_type": "markdown",
   "id": "bce84e33",
   "metadata": {},
   "source": [
    "#### Conclusión del apartado C\n",
    ">\n",
    "> Crear una columna que indica cuántos días han pasado desde la última reseña de cada anuncio. \n",
    "> \n",
    "> Así puedes analizar si los anuncios más antiguos o más recientes tienen características diferentes.\n"
   ]
  },
  {
   "cell_type": "markdown",
   "id": "1b0813a9",
   "metadata": {},
   "source": [
    "### Split"
   ]
  },
  {
   "cell_type": "markdown",
   "id": "eb803126",
   "metadata": {},
   "source": [
    "> Separamos variables - X contiene las columnas del DF menos price, Y  contiene solo la columna price (variable que queremos predecir).\n",
    ">\n",
    "> También dividimos los datos en dos partes (entrenamiento y prueba) para poder ver cuantas filas hay en cada parte despues de la división."
   ]
  },
  {
   "cell_type": "code",
   "execution_count": 59,
   "id": "28d4b672",
   "metadata": {},
   "outputs": [
    {
     "name": "stdout",
     "output_type": "stream",
     "text": [
      "Tamaño de X_train: (31074, 15)\n",
      "Tamaño de X_test: (7769, 15)\n",
      "Tamaño de y_train: (31074,)\n",
      "Tamaño de y_test: (7769,)\n"
     ]
    }
   ],
   "source": [
    "\n",
    "# queremos predecir 'price' y el resto son variables predictoras\n",
    "X = df.drop(columns=['price'])\n",
    "y = df['price']\n",
    "\n",
    "# Realizamos el split: 80% entrenamiento, 20% prueba\n",
    "X_train, X_test, y_train, y_test = train_test_split(\n",
    "    X, y, test_size=0.2, random_state=42\n",
    ")\n",
    "\n",
    "print(\"Tamaño de X_train:\", X_train.shape)\n",
    "print(\"Tamaño de X_test:\", X_test.shape)\n",
    "print(\"Tamaño de y_train:\", y_train.shape)\n",
    "print(\"Tamaño de y_test:\", y_test.shape)"
   ]
  },
  {
   "cell_type": "markdown",
   "id": "84b115e4",
   "metadata": {},
   "source": [
    "#### Conclusión\n",
    ">\n",
    "> Este paso es importante para entrenar mi modelo con una parte de los datos y luego probarlo con datos que no ha visto.\n",
    ">\n",
    "> Asegurando una evaluación justa y realista del rendimiento del modelo."
   ]
  },
  {
   "cell_type": "markdown",
   "id": "c087aa36",
   "metadata": {},
   "source": [
    "### Scaling y Encoding"
   ]
  },
  {
   "cell_type": "code",
   "execution_count": 60,
   "id": "9566e1cc",
   "metadata": {},
   "outputs": [
    {
     "name": "stdout",
     "output_type": "stream",
     "text": [
      "Escalado MinMax aplicado a las variables numéricas.\n"
     ]
    }
   ],
   "source": [
    "# Escalado (normalización) de las variables numéricas usando MinMaxScaler\n",
    "\n",
    "# Selecciona solo las columnas numéricas (excepto 'price' ya es nuestro target)\n",
    "num_cols = X.select_dtypes(include=['int64', 'float64']).columns\n",
    "\n",
    "# Inicializa el scaler\n",
    "scaler = MinMaxScaler()\n",
    "\n",
    "# Ajusta y transforma los datos de entrenamiento y prueba\n",
    "X_train[num_cols] = scaler.fit_transform(X_train[num_cols])\n",
    "X_test[num_cols] = scaler.transform(X_test[num_cols])\n",
    "\n",
    "print(\"Escalado MinMax aplicado a las variables numéricas.\")"
   ]
  },
  {
   "cell_type": "code",
   "execution_count": 64,
   "id": "5be78d42",
   "metadata": {},
   "outputs": [
    {
     "name": "stdout",
     "output_type": "stream",
     "text": [
      "Label Encoding, One Hot Encoding y Ordinal Encoding aplicados .\n"
     ]
    }
   ],
   "source": [
    "# ENCODING de variables categóricas\n",
    "\n",
    "# 1. Label Encoding (para variables con solo dos categorías o para modelos de árbol)\n",
    "label_encoder = LabelEncoder()\n",
    "# Ejemplo: si 'room_type' tiene pocas categorías\n",
    "df['room_type_le'] = label_encoder.fit_transform(df['room_type'])\n",
    "\n",
    "# 2. One Hot Encoding (para variables categóricas nominales) esto tambien lo utilizamos mas arriba\n",
    "# Usualmente se usa para variables como 'neighbourhood_group', 'room_type', etc.\n",
    "df_onehot = pd.get_dummies(df, columns=['neighbourhood_group', 'room_type'], drop_first=True)\n",
    "\n",
    "# 3. Ordinal Encoding (para variables categóricas con un orden lógico)\n",
    "# Ejemplo: si tienes una columna 'calidad' con valores ['bajo', 'medio', 'alto']\n",
    "# ordinal_encoder = OrdinalEncoder(categories=[['bajo', 'medio', 'alto']])\n",
    "# df['calidad_ordinal'] = ordinal_encoder.fit_transform(df[['calidad']])\n",
    "\n",
    "print(\"Label Encoding, One Hot Encoding y Ordinal Encoding aplicados .\")"
   ]
  },
  {
   "cell_type": "code",
   "execution_count": 69,
   "id": "8ea95380",
   "metadata": {},
   "outputs": [
    {
     "name": "stdout",
     "output_type": "stream",
     "text": [
      "Scalers y encoders guardados en archivos .pkl\n"
     ]
    }
   ],
   "source": [
    "# Guardar los scalers y encoders para usarlos después (por ejemplo, en producción o para transformar nuevos datos)\n",
    "\n",
    "# Guardar el MinMaxScaler\n",
    "joblib.dump(scaler, 'minmax_scaler.pkl')\n",
    "\n",
    "# Guardar el LabelEncoder para 'room_type'\n",
    "joblib.dump(label_encoder, 'label_encoder_room_type.pkl')\n",
    "\n",
    "# Si usas OrdinalEncoder, descomenta y guarda así:\n",
    "# joblib.dump(ordinal_encoder, 'ordinal_encoder_calidad.pkl')\n",
    "\n",
    "\n",
    "print(\"Scalers y encoders guardados en archivos .pkl\")\n"
   ]
  },
  {
   "cell_type": "markdown",
   "id": "8970ac39",
   "metadata": {},
   "source": [
    "\n",
    "#### Conclusión\n",
    "\n",
    "> Guardar los objetos de escalado y codificación (scaler y encoders) es fundamental para asegurar que cualquier dato nuevo que llegue en el futuro sea transformado exactamente igual que los datos de entrenamiento.  \n",
    "> Así, garantizamos la coherencia en el preprocesamiento tanto en la fase de entrenamiento como en la de predicción o producción, evitando errores y asegurando que el modelo reciba los datos en el mismo formato numérico.  \n",
    "> Además, estos archivos `.pkl` permiten reutilizar los mismos objetos sin tener que volver a ajustarlos, facilitando la implementación y el despliegue del modelo."
   ]
  }
 ],
 "metadata": {
  "kernelspec": {
   "display_name": "Python 3",
   "language": "python",
   "name": "python3"
  },
  "language_info": {
   "codemirror_mode": {
    "name": "ipython",
    "version": 3
   },
   "file_extension": ".py",
   "mimetype": "text/x-python",
   "name": "python",
   "nbconvert_exporter": "python",
   "pygments_lexer": "ipython3",
   "version": "3.11.4"
  }
 },
 "nbformat": 4,
 "nbformat_minor": 5
}
